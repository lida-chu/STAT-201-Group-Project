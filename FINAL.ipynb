{
 "cells": [
  {
   "attachments": {},
   "cell_type": "markdown",
   "id": "6dfd5de1-896e-4c75-b974-b8988319b3f5",
   "metadata": {},
   "source": [
    "# Assessing the Effectiveness of VPD Bike Theft Prevention Programs"
   ]
  },
  {
   "attachments": {},
   "cell_type": "markdown",
   "id": "c86f0df4-4b4e-44ee-a3a9-1ce2dc7d43af",
   "metadata": {
    "tags": []
   },
   "source": [
    "##### STAT 201 Group 32: Angela Felicia, Christin Wang, Linda Chu, Yifan Hao"
   ]
  },
  {
   "attachments": {},
   "cell_type": "markdown",
   "id": "b5daabc3-fbe9-4677-96cc-a512d85b77f1",
   "metadata": {},
   "source": [
    "## Introduction\n",
    "\n",
    "Bike theft is a major issue in Vancouver. According to the Vancouver Police Department (VPD), over 2,000 bikes are stolen in Vancouver every year (Vancouver Police Department, n.d.). To combat this issue, the VPD parterned with Project 529 to implement a theft recovery and deterrent system for bikes, which was reported to be effective (McIntyre, 2023; Nettle, Nott, & Bateson, 2012).\n",
    "\n",
    "### Our Question               \n",
    "We want to assess these claims of effectiveness through statistical inference. We will compare the proportion of bike theft in Vancouver in *2012* (a year before Project 529 was created) to the proportion of bike theft in *2022* (the most recently concluded year) and identify a confidence interval for this difference-in-proportions.\n",
    "\n",
    "We plan to focus on the Central Business District (Downtown). As bike theft often occurs around transport hubs or worksites, and high crime rate areas like Downtown (Malleson, Steenbeek, & Andresen, 2019), a valid reduction in bike theft would be more evident here.\n",
    "\n",
    "### Dataset\n",
    "Our chosen dataset is the VPD Crime dataset which contains information about the date, type, and location of a crime in Vancouver from 2003 to 2023."
   ]
  },
  {
   "attachments": {},
   "cell_type": "markdown",
   "id": "5bdc6c83-6987-4816-948d-832f20df2655",
   "metadata": {},
   "source": [
    "## Methods and Results\n",
    "\n",
    "### I. Preliminary Operations\n",
    "\n",
    "#### 1. Loading the datasets\n"
   ]
  },
  {
   "cell_type": "code",
   "execution_count": 7,
   "id": "73eee2c0-5bad-4d59-91a4-d3ff401f713e",
   "metadata": {
    "tags": [],
    "vscode": {
     "languageId": "r"
    }
   },
   "outputs": [
    {
     "name": "stderr",
     "output_type": "stream",
     "text": [
      "Warning message:\n",
      "\"正在使用'cowplot'这个程序包，因此不会被安装\"\n",
      "Warning message:\n",
      "\"正在使用'broom'这个程序包，因此不会被安装\"\n"
     ]
    }
   ],
   "source": [
    "library(dplyr)\n",
    "library(ggplot2)\n",
    "library(readr)\n",
    "library(tidyr)\n",
    "install.packages(\"cowplot\")\n",
    "library(cowplot)\n",
    "install.packages(\"broom\")\n",
    "library(broom)"
   ]
  },
  {
   "cell_type": "code",
   "execution_count": 8,
   "id": "92a2dc74-bcc9-4f77-97d4-0f68549236fc",
   "metadata": {
    "tags": [],
    "vscode": {
     "languageId": "r"
    }
   },
   "outputs": [
    {
     "name": "stderr",
     "output_type": "stream",
     "text": [
      "`curl` package not installed, falling back to using `url()`\n",
      "\u001b[1mRows: \u001b[22m\u001b[34m8821\u001b[39m \u001b[1mColumns: \u001b[22m\u001b[34m10\u001b[39m\n",
      "\u001b[36m──\u001b[39m \u001b[1mColumn specification\u001b[22m \u001b[36m────────────────────────────────────────────────────────\u001b[39m\n",
      "\u001b[1mDelimiter:\u001b[22m \",\"\n",
      "\u001b[31mchr\u001b[39m (3): TYPE, HUNDRED_BLOCK, NEIGHBOURHOOD\n",
      "\u001b[32mdbl\u001b[39m (7): YEAR, MONTH, DAY, HOUR, MINUTE, X, Y\n",
      "\n",
      "\u001b[36mℹ\u001b[39m Use `spec()` to retrieve the full column specification for this data.\n",
      "\u001b[36mℹ\u001b[39m Specify the column types or set `show_col_types = FALSE` to quiet this message.\n",
      "`curl` package not installed, falling back to using `url()`\n",
      "\u001b[1mRows: \u001b[22m\u001b[34m10614\u001b[39m \u001b[1mColumns: \u001b[22m\u001b[34m10\u001b[39m\n",
      "\u001b[36m──\u001b[39m \u001b[1mColumn specification\u001b[22m \u001b[36m────────────────────────────────────────────────────────\u001b[39m\n",
      "\u001b[1mDelimiter:\u001b[22m \",\"\n",
      "\u001b[31mchr\u001b[39m (3): TYPE, HUNDRED_BLOCK, NEIGHBOURHOOD\n",
      "\u001b[32mdbl\u001b[39m (7): YEAR, MONTH, DAY, HOUR, MINUTE, X, Y\n",
      "\n",
      "\u001b[36mℹ\u001b[39m Use `spec()` to retrieve the full column specification for this data.\n",
      "\u001b[36mℹ\u001b[39m Specify the column types or set `show_col_types = FALSE` to quiet this message.\n"
     ]
    },
    {
     "data": {
      "text/html": [
       "<table class=\"dataframe\">\n",
       "<caption>A tibble: 6 × 10</caption>\n",
       "<thead>\n",
       "\t<tr><th scope=col>TYPE</th><th scope=col>YEAR</th><th scope=col>MONTH</th><th scope=col>DAY</th><th scope=col>HOUR</th><th scope=col>MINUTE</th><th scope=col>HUNDRED_BLOCK</th><th scope=col>NEIGHBOURHOOD</th><th scope=col>X</th><th scope=col>Y</th></tr>\n",
       "\t<tr><th scope=col>&lt;chr&gt;</th><th scope=col>&lt;dbl&gt;</th><th scope=col>&lt;dbl&gt;</th><th scope=col>&lt;dbl&gt;</th><th scope=col>&lt;dbl&gt;</th><th scope=col>&lt;dbl&gt;</th><th scope=col>&lt;chr&gt;</th><th scope=col>&lt;chr&gt;</th><th scope=col>&lt;dbl&gt;</th><th scope=col>&lt;dbl&gt;</th></tr>\n",
       "</thead>\n",
       "<tbody>\n",
       "\t<tr><td>Break and Enter Commercial</td><td>2012</td><td>11</td><td>26</td><td> 9</td><td>38</td><td>10XX BEACH AVE  </td><td>Central Business District</td><td>490268.4</td><td>5458143</td></tr>\n",
       "\t<tr><td>Break and Enter Commercial</td><td>2012</td><td>10</td><td>11</td><td>13</td><td> 0</td><td>10XX CAMBIE ST  </td><td>Central Business District</td><td>491327.6</td><td>5458026</td></tr>\n",
       "\t<tr><td>Break and Enter Commercial</td><td>2012</td><td> 1</td><td> 8</td><td>22</td><td> 1</td><td>10XX CANADA PL  </td><td>Central Business District</td><td>491519.5</td><td>5459521</td></tr>\n",
       "\t<tr><td>Break and Enter Commercial</td><td>2012</td><td>10</td><td>27</td><td>21</td><td>35</td><td>10XX CANADA PL  </td><td>Central Business District</td><td>491586.3</td><td>5459502</td></tr>\n",
       "\t<tr><td>Break and Enter Commercial</td><td>2012</td><td>12</td><td>13</td><td> 5</td><td> 0</td><td>10XX HAMILTON ST</td><td>Central Business District</td><td>491211.0</td><td>5458148</td></tr>\n",
       "\t<tr><td>Break and Enter Commercial</td><td>2012</td><td>12</td><td>15</td><td>22</td><td> 0</td><td>10XX HAMILTON ST</td><td>Central Business District</td><td>491261.0</td><td>5458199</td></tr>\n",
       "</tbody>\n",
       "</table>\n"
      ],
      "text/latex": [
       "A tibble: 6 × 10\n",
       "\\begin{tabular}{llllllllll}\n",
       " TYPE & YEAR & MONTH & DAY & HOUR & MINUTE & HUNDRED\\_BLOCK & NEIGHBOURHOOD & X & Y\\\\\n",
       " <chr> & <dbl> & <dbl> & <dbl> & <dbl> & <dbl> & <chr> & <chr> & <dbl> & <dbl>\\\\\n",
       "\\hline\n",
       "\t Break and Enter Commercial & 2012 & 11 & 26 &  9 & 38 & 10XX BEACH AVE   & Central Business District & 490268.4 & 5458143\\\\\n",
       "\t Break and Enter Commercial & 2012 & 10 & 11 & 13 &  0 & 10XX CAMBIE ST   & Central Business District & 491327.6 & 5458026\\\\\n",
       "\t Break and Enter Commercial & 2012 &  1 &  8 & 22 &  1 & 10XX CANADA PL   & Central Business District & 491519.5 & 5459521\\\\\n",
       "\t Break and Enter Commercial & 2012 & 10 & 27 & 21 & 35 & 10XX CANADA PL   & Central Business District & 491586.3 & 5459502\\\\\n",
       "\t Break and Enter Commercial & 2012 & 12 & 13 &  5 &  0 & 10XX HAMILTON ST & Central Business District & 491211.0 & 5458148\\\\\n",
       "\t Break and Enter Commercial & 2012 & 12 & 15 & 22 &  0 & 10XX HAMILTON ST & Central Business District & 491261.0 & 5458199\\\\\n",
       "\\end{tabular}\n"
      ],
      "text/markdown": [
       "\n",
       "A tibble: 6 × 10\n",
       "\n",
       "| TYPE &lt;chr&gt; | YEAR &lt;dbl&gt; | MONTH &lt;dbl&gt; | DAY &lt;dbl&gt; | HOUR &lt;dbl&gt; | MINUTE &lt;dbl&gt; | HUNDRED_BLOCK &lt;chr&gt; | NEIGHBOURHOOD &lt;chr&gt; | X &lt;dbl&gt; | Y &lt;dbl&gt; |\n",
       "|---|---|---|---|---|---|---|---|---|---|\n",
       "| Break and Enter Commercial | 2012 | 11 | 26 |  9 | 38 | 10XX BEACH AVE   | Central Business District | 490268.4 | 5458143 |\n",
       "| Break and Enter Commercial | 2012 | 10 | 11 | 13 |  0 | 10XX CAMBIE ST   | Central Business District | 491327.6 | 5458026 |\n",
       "| Break and Enter Commercial | 2012 |  1 |  8 | 22 |  1 | 10XX CANADA PL   | Central Business District | 491519.5 | 5459521 |\n",
       "| Break and Enter Commercial | 2012 | 10 | 27 | 21 | 35 | 10XX CANADA PL   | Central Business District | 491586.3 | 5459502 |\n",
       "| Break and Enter Commercial | 2012 | 12 | 13 |  5 |  0 | 10XX HAMILTON ST | Central Business District | 491211.0 | 5458148 |\n",
       "| Break and Enter Commercial | 2012 | 12 | 15 | 22 |  0 | 10XX HAMILTON ST | Central Business District | 491261.0 | 5458199 |\n",
       "\n"
      ],
      "text/plain": [
       "  TYPE                       YEAR MONTH DAY HOUR MINUTE HUNDRED_BLOCK   \n",
       "1 Break and Enter Commercial 2012 11    26   9   38     10XX BEACH AVE  \n",
       "2 Break and Enter Commercial 2012 10    11  13    0     10XX CAMBIE ST  \n",
       "3 Break and Enter Commercial 2012  1     8  22    1     10XX CANADA PL  \n",
       "4 Break and Enter Commercial 2012 10    27  21   35     10XX CANADA PL  \n",
       "5 Break and Enter Commercial 2012 12    13   5    0     10XX HAMILTON ST\n",
       "6 Break and Enter Commercial 2012 12    15  22    0     10XX HAMILTON ST\n",
       "  NEIGHBOURHOOD             X        Y      \n",
       "1 Central Business District 490268.4 5458143\n",
       "2 Central Business District 491327.6 5458026\n",
       "3 Central Business District 491519.5 5459521\n",
       "4 Central Business District 491586.3 5459502\n",
       "5 Central Business District 491211.0 5458148\n",
       "6 Central Business District 491261.0 5458199"
      ]
     },
     "metadata": {},
     "output_type": "display_data"
    },
    {
     "data": {
      "text/html": [
       "<table class=\"dataframe\">\n",
       "<caption>A tibble: 6 × 10</caption>\n",
       "<thead>\n",
       "\t<tr><th scope=col>TYPE</th><th scope=col>YEAR</th><th scope=col>MONTH</th><th scope=col>DAY</th><th scope=col>HOUR</th><th scope=col>MINUTE</th><th scope=col>HUNDRED_BLOCK</th><th scope=col>NEIGHBOURHOOD</th><th scope=col>X</th><th scope=col>Y</th></tr>\n",
       "\t<tr><th scope=col>&lt;chr&gt;</th><th scope=col>&lt;dbl&gt;</th><th scope=col>&lt;dbl&gt;</th><th scope=col>&lt;dbl&gt;</th><th scope=col>&lt;dbl&gt;</th><th scope=col>&lt;dbl&gt;</th><th scope=col>&lt;chr&gt;</th><th scope=col>&lt;chr&gt;</th><th scope=col>&lt;dbl&gt;</th><th scope=col>&lt;dbl&gt;</th></tr>\n",
       "</thead>\n",
       "<tbody>\n",
       "\t<tr><td>Break and Enter Commercial</td><td>2022</td><td> 2</td><td>13</td><td> 6</td><td>22</td><td>10XX CANADA PL  </td><td>Central Business District</td><td>491493.3</td><td>5459542</td></tr>\n",
       "\t<tr><td>Break and Enter Commercial</td><td>2022</td><td> 7</td><td>16</td><td> 9</td><td>10</td><td>10XX CANADA PL  </td><td>Central Business District</td><td>491493.3</td><td>5459542</td></tr>\n",
       "\t<tr><td>Break and Enter Commercial</td><td>2022</td><td>10</td><td> 2</td><td> 6</td><td>29</td><td>10XX CANADA PL  </td><td>Central Business District</td><td>491493.3</td><td>5459542</td></tr>\n",
       "\t<tr><td>Break and Enter Commercial</td><td>2022</td><td> 1</td><td> 7</td><td> 6</td><td> 2</td><td>10XX CANADA PL  </td><td>Central Business District</td><td>491493.4</td><td>5459542</td></tr>\n",
       "\t<tr><td>Break and Enter Commercial</td><td>2022</td><td> 2</td><td>26</td><td>18</td><td>16</td><td>10XX DUNSMUIR ST</td><td>Central Business District</td><td>491237.8</td><td>5459259</td></tr>\n",
       "\t<tr><td>Break and Enter Commercial</td><td>2022</td><td> 1</td><td>21</td><td> 3</td><td>30</td><td>10XX DUNSMUIR ST</td><td>Central Business District</td><td>491238.7</td><td>5459259</td></tr>\n",
       "</tbody>\n",
       "</table>\n"
      ],
      "text/latex": [
       "A tibble: 6 × 10\n",
       "\\begin{tabular}{llllllllll}\n",
       " TYPE & YEAR & MONTH & DAY & HOUR & MINUTE & HUNDRED\\_BLOCK & NEIGHBOURHOOD & X & Y\\\\\n",
       " <chr> & <dbl> & <dbl> & <dbl> & <dbl> & <dbl> & <chr> & <chr> & <dbl> & <dbl>\\\\\n",
       "\\hline\n",
       "\t Break and Enter Commercial & 2022 &  2 & 13 &  6 & 22 & 10XX CANADA PL   & Central Business District & 491493.3 & 5459542\\\\\n",
       "\t Break and Enter Commercial & 2022 &  7 & 16 &  9 & 10 & 10XX CANADA PL   & Central Business District & 491493.3 & 5459542\\\\\n",
       "\t Break and Enter Commercial & 2022 & 10 &  2 &  6 & 29 & 10XX CANADA PL   & Central Business District & 491493.3 & 5459542\\\\\n",
       "\t Break and Enter Commercial & 2022 &  1 &  7 &  6 &  2 & 10XX CANADA PL   & Central Business District & 491493.4 & 5459542\\\\\n",
       "\t Break and Enter Commercial & 2022 &  2 & 26 & 18 & 16 & 10XX DUNSMUIR ST & Central Business District & 491237.8 & 5459259\\\\\n",
       "\t Break and Enter Commercial & 2022 &  1 & 21 &  3 & 30 & 10XX DUNSMUIR ST & Central Business District & 491238.7 & 5459259\\\\\n",
       "\\end{tabular}\n"
      ],
      "text/markdown": [
       "\n",
       "A tibble: 6 × 10\n",
       "\n",
       "| TYPE &lt;chr&gt; | YEAR &lt;dbl&gt; | MONTH &lt;dbl&gt; | DAY &lt;dbl&gt; | HOUR &lt;dbl&gt; | MINUTE &lt;dbl&gt; | HUNDRED_BLOCK &lt;chr&gt; | NEIGHBOURHOOD &lt;chr&gt; | X &lt;dbl&gt; | Y &lt;dbl&gt; |\n",
       "|---|---|---|---|---|---|---|---|---|---|\n",
       "| Break and Enter Commercial | 2022 |  2 | 13 |  6 | 22 | 10XX CANADA PL   | Central Business District | 491493.3 | 5459542 |\n",
       "| Break and Enter Commercial | 2022 |  7 | 16 |  9 | 10 | 10XX CANADA PL   | Central Business District | 491493.3 | 5459542 |\n",
       "| Break and Enter Commercial | 2022 | 10 |  2 |  6 | 29 | 10XX CANADA PL   | Central Business District | 491493.3 | 5459542 |\n",
       "| Break and Enter Commercial | 2022 |  1 |  7 |  6 |  2 | 10XX CANADA PL   | Central Business District | 491493.4 | 5459542 |\n",
       "| Break and Enter Commercial | 2022 |  2 | 26 | 18 | 16 | 10XX DUNSMUIR ST | Central Business District | 491237.8 | 5459259 |\n",
       "| Break and Enter Commercial | 2022 |  1 | 21 |  3 | 30 | 10XX DUNSMUIR ST | Central Business District | 491238.7 | 5459259 |\n",
       "\n"
      ],
      "text/plain": [
       "  TYPE                       YEAR MONTH DAY HOUR MINUTE HUNDRED_BLOCK   \n",
       "1 Break and Enter Commercial 2022  2    13   6   22     10XX CANADA PL  \n",
       "2 Break and Enter Commercial 2022  7    16   9   10     10XX CANADA PL  \n",
       "3 Break and Enter Commercial 2022 10     2   6   29     10XX CANADA PL  \n",
       "4 Break and Enter Commercial 2022  1     7   6    2     10XX CANADA PL  \n",
       "5 Break and Enter Commercial 2022  2    26  18   16     10XX DUNSMUIR ST\n",
       "6 Break and Enter Commercial 2022  1    21   3   30     10XX DUNSMUIR ST\n",
       "  NEIGHBOURHOOD             X        Y      \n",
       "1 Central Business District 491493.3 5459542\n",
       "2 Central Business District 491493.3 5459542\n",
       "3 Central Business District 491493.3 5459542\n",
       "4 Central Business District 491493.4 5459542\n",
       "5 Central Business District 491237.8 5459259\n",
       "6 Central Business District 491238.7 5459259"
      ]
     },
     "metadata": {},
     "output_type": "display_data"
    }
   ],
   "source": [
    "cbd_2012 <- read_csv(\"https://drive.google.com/u/0/uc?id=1hYkqOrxvwQ7rXIw8jGVoDlUwL0a5Vn9b&export=download\")\n",
    "cbd_2022 <- read_csv(\"https://drive.google.com/u/0/uc?id=1rDToNyTlyzyVwrLMV4tamVZOdwQBVXRe&export=download\")\n",
    "\n",
    "head(cbd_2012)\n",
    "head(cbd_2022)"
   ]
  },
  {
   "attachments": {},
   "cell_type": "markdown",
   "id": "fdf2723c",
   "metadata": {},
   "source": [
    "#### 2. Tidying the data\n",
    "Here we select our variable of interest (TYPE) to remove unecessary columns and shorten long labels."
   ]
  },
  {
   "cell_type": "code",
   "execution_count": 9,
   "id": "965fe051",
   "metadata": {
    "vscode": {
     "languageId": "r"
    }
   },
   "outputs": [
    {
     "data": {
      "text/html": [
       "<table class=\"dataframe\">\n",
       "<caption>A tibble: 6 × 1</caption>\n",
       "<thead>\n",
       "\t<tr><th scope=col>TYPE</th></tr>\n",
       "\t<tr><th scope=col>&lt;chr&gt;</th></tr>\n",
       "</thead>\n",
       "<tbody>\n",
       "\t<tr><td>B&amp;E Commercial</td></tr>\n",
       "\t<tr><td>B&amp;E Commercial</td></tr>\n",
       "\t<tr><td>B&amp;E Commercial</td></tr>\n",
       "\t<tr><td>B&amp;E Commercial</td></tr>\n",
       "\t<tr><td>B&amp;E Commercial</td></tr>\n",
       "\t<tr><td>B&amp;E Commercial</td></tr>\n",
       "</tbody>\n",
       "</table>\n"
      ],
      "text/latex": [
       "A tibble: 6 × 1\n",
       "\\begin{tabular}{l}\n",
       " TYPE\\\\\n",
       " <chr>\\\\\n",
       "\\hline\n",
       "\t B\\&E Commercial\\\\\n",
       "\t B\\&E Commercial\\\\\n",
       "\t B\\&E Commercial\\\\\n",
       "\t B\\&E Commercial\\\\\n",
       "\t B\\&E Commercial\\\\\n",
       "\t B\\&E Commercial\\\\\n",
       "\\end{tabular}\n"
      ],
      "text/markdown": [
       "\n",
       "A tibble: 6 × 1\n",
       "\n",
       "| TYPE &lt;chr&gt; |\n",
       "|---|\n",
       "| B&amp;E Commercial |\n",
       "| B&amp;E Commercial |\n",
       "| B&amp;E Commercial |\n",
       "| B&amp;E Commercial |\n",
       "| B&amp;E Commercial |\n",
       "| B&amp;E Commercial |\n",
       "\n"
      ],
      "text/plain": [
       "  TYPE          \n",
       "1 B&E Commercial\n",
       "2 B&E Commercial\n",
       "3 B&E Commercial\n",
       "4 B&E Commercial\n",
       "5 B&E Commercial\n",
       "6 B&E Commercial"
      ]
     },
     "metadata": {},
     "output_type": "display_data"
    },
    {
     "data": {
      "text/html": [
       "<table class=\"dataframe\">\n",
       "<caption>A tibble: 6 × 1</caption>\n",
       "<thead>\n",
       "\t<tr><th scope=col>TYPE</th></tr>\n",
       "\t<tr><th scope=col>&lt;chr&gt;</th></tr>\n",
       "</thead>\n",
       "<tbody>\n",
       "\t<tr><td>B&amp;E Commercial</td></tr>\n",
       "\t<tr><td>B&amp;E Commercial</td></tr>\n",
       "\t<tr><td>B&amp;E Commercial</td></tr>\n",
       "\t<tr><td>B&amp;E Commercial</td></tr>\n",
       "\t<tr><td>B&amp;E Commercial</td></tr>\n",
       "\t<tr><td>B&amp;E Commercial</td></tr>\n",
       "</tbody>\n",
       "</table>\n"
      ],
      "text/latex": [
       "A tibble: 6 × 1\n",
       "\\begin{tabular}{l}\n",
       " TYPE\\\\\n",
       " <chr>\\\\\n",
       "\\hline\n",
       "\t B\\&E Commercial\\\\\n",
       "\t B\\&E Commercial\\\\\n",
       "\t B\\&E Commercial\\\\\n",
       "\t B\\&E Commercial\\\\\n",
       "\t B\\&E Commercial\\\\\n",
       "\t B\\&E Commercial\\\\\n",
       "\\end{tabular}\n"
      ],
      "text/markdown": [
       "\n",
       "A tibble: 6 × 1\n",
       "\n",
       "| TYPE &lt;chr&gt; |\n",
       "|---|\n",
       "| B&amp;E Commercial |\n",
       "| B&amp;E Commercial |\n",
       "| B&amp;E Commercial |\n",
       "| B&amp;E Commercial |\n",
       "| B&amp;E Commercial |\n",
       "| B&amp;E Commercial |\n",
       "\n"
      ],
      "text/plain": [
       "  TYPE          \n",
       "1 B&E Commercial\n",
       "2 B&E Commercial\n",
       "3 B&E Commercial\n",
       "4 B&E Commercial\n",
       "5 B&E Commercial\n",
       "6 B&E Commercial"
      ]
     },
     "metadata": {},
     "output_type": "display_data"
    }
   ],
   "source": [
    "cbd_2012 <- cbd_2012 %>%\n",
    "  select(TYPE) %>%\n",
    "  mutate(TYPE = recode(TYPE, \n",
    "                       \"Break and Enter Commercial\" = \"B&E Commercial\",\n",
    "                       \"Break and Enter Residential/Other\" = \"B&E Residential/Other\",\n",
    "                       \"Vehicle Collision or Pedestrian Struck (with Fatality)\" = \"MVA (with Fatality)\",\n",
    "                       \"Vehicle Collision or Pedestrian Struck (with Injury)\" = \"MVA (with Injury)\"))\n",
    "\n",
    "cbd_2022 <- cbd_2022 %>%\n",
    "  select(TYPE) %>%\n",
    "  mutate(TYPE = recode(TYPE, \n",
    "                       \"Break and Enter Commercial\" = \"B&E Commercial\",\n",
    "                       \"Break and Enter Residential/Other\" = \"B&E Residential/Other\",\n",
    "                       \"Vehicle Collision or Pedestrian Struck (with Fatality)\" = \"MVA (with Fatality)\",\n",
    "                       \"Vehicle Collision or Pedestrian Struck (with Injury)\" = \"MVA (with Injury)\"))\n",
    "\n",
    "head(cbd_2012)\n",
    "head(cbd_2022)"
   ]
  },
  {
   "attachments": {},
   "cell_type": "markdown",
   "id": "eef2ce67",
   "metadata": {},
   "source": [
    "#### 3. Plotting relevant raw data\n",
    "We plotted the count for each crime in 2012 and 2022 in bar graphs. From the plots, we can see that the bar for bike theft is relatively short, meaning we can expect the proportions and any difference in the proportions to be generally low. Moreover, the bar for bike theft is shorter in 2022 than for 2012 which indicates a possibility of reduction in bike theft between 2012 and 2022."
   ]
  },
  {
   "cell_type": "code",
   "execution_count": 10,
   "id": "95f0576f",
   "metadata": {
    "vscode": {
     "languageId": "r"
    }
   },
   "outputs": [
    {
     "data": {
      "image/png": "[encoded data removed]",
      "text/plain": [
       "plot without title"
      ]
     },
     "metadata": {
      "image/png": {
       "height": 420,
       "width": 960
      }
     },
     "output_type": "display_data"
    }
   ],
   "source": [
    "options(repr.plot.width = 16, repr.plot.height = 7)\n",
    "\n",
    "cbd_2012_dist <- cbd_2012 %>%\n",
    "  ggplot(aes(x = TYPE,\n",
    "             fill = factor(ifelse(TYPE==\"Theft of Bicycle\",\"Category of Interest\",\"Other\")))) +\n",
    "  geom_bar(width = 0.7, show.legend = FALSE) +\n",
    "  scale_fill_brewer(palette = \"Set1\") +\n",
    "  labs(x = \"Crime Type\", y = \"Crime Count\", title = \"Crime in the Central Business District (2012)\") +\n",
    "  theme(axis.text.x = element_text(angle = 45, vjust = 1, hjust = 1, size = 15),\n",
    "        axis.text.y = element_text(size = 15),\n",
    "        axis.title = element_text(size = 15),\n",
    "        legend.text = element_text(size = 15),\n",
    "        plot.title = element_text(size = 25))\n",
    "\n",
    "cbd_2022_dist <- cbd_2022 %>%\n",
    "  ggplot(aes(x = TYPE,\n",
    "             fill = factor(ifelse(TYPE==\"Theft of Bicycle\",\"Category of Interest\",\"Other\")))) +\n",
    "  geom_bar(width = 0.7, show.legend = FALSE) +\n",
    "  scale_fill_brewer(palette = \"Set1\") +\n",
    "  labs(x = \"Crime Type\", y = \"Crime Count\", title = \"Crime in the Central Business District (2022)\") +\n",
    "  theme(axis.text.x = element_text(angle = 45, vjust = 1, hjust = 1, size = 15),\n",
    "        axis.text.y = element_text(size = 15),\n",
    "        axis.title = element_text(size = 15),\n",
    "        legend.text = element_text(size = 15),\n",
    "        plot.title = element_text(size = 25))\n",
    "\n",
    "plot_grid(cbd_2012_dist, cbd_2022_dist)"
   ]
  },
  {
   "attachments": {},
   "cell_type": "markdown",
   "id": "172001fd",
   "metadata": {},
   "source": [
    "#### 4. Estimating the proportion of bike thefts"
   ]
  },
  {
   "cell_type": "code",
   "execution_count": 11,
   "id": "ac87bf24-d33f-4639-aec6-4238d9353384",
   "metadata": {
    "tags": [],
    "vscode": {
     "languageId": "r"
    }
   },
   "outputs": [
    {
     "data": {
      "text/html": [
       "<table class=\"dataframe\">\n",
       "<caption>A tibble: 1 × 3</caption>\n",
       "<thead>\n",
       "\t<tr><th scope=col>prop_bike_theft_2012</th><th scope=col>prop_bike_theft_2022</th><th scope=col>diff_in_props</th></tr>\n",
       "\t<tr><th scope=col>&lt;dbl&gt;</th><th scope=col>&lt;dbl&gt;</th><th scope=col>&lt;dbl&gt;</th></tr>\n",
       "</thead>\n",
       "<tbody>\n",
       "\t<tr><td>0.06019726</td><td>0.03806294</td><td>0.02213432</td></tr>\n",
       "</tbody>\n",
       "</table>\n"
      ],
      "text/latex": [
       "A tibble: 1 × 3\n",
       "\\begin{tabular}{lll}\n",
       " prop\\_bike\\_theft\\_2012 & prop\\_bike\\_theft\\_2022 & diff\\_in\\_props\\\\\n",
       " <dbl> & <dbl> & <dbl>\\\\\n",
       "\\hline\n",
       "\t 0.06019726 & 0.03806294 & 0.02213432\\\\\n",
       "\\end{tabular}\n"
      ],
      "text/markdown": [
       "\n",
       "A tibble: 1 × 3\n",
       "\n",
       "| prop_bike_theft_2012 &lt;dbl&gt; | prop_bike_theft_2022 &lt;dbl&gt; | diff_in_props &lt;dbl&gt; |\n",
       "|---|---|---|\n",
       "| 0.06019726 | 0.03806294 | 0.02213432 |\n",
       "\n"
      ],
      "text/plain": [
       "  prop_bike_theft_2012 prop_bike_theft_2022 diff_in_props\n",
       "1 0.06019726           0.03806294           0.02213432   "
      ]
     },
     "metadata": {},
     "output_type": "display_data"
    }
   ],
   "source": [
    "bike_theft_2012 <- cbd_2012 %>%\n",
    "  summarize(bike_theft = sum(TYPE == \"Theft of Bicycle\"),\n",
    "            prop_bike_theft_2012 = bike_theft / n()) %>%\n",
    "  select(prop_bike_theft_2012)\n",
    "\n",
    "bike_theft_2022 <- cbd_2022 %>%\n",
    "  summarize(bike_theft = sum(TYPE == \"Theft of Bicycle\"),\n",
    "            prop_bike_theft_2022 = bike_theft / n()) %>%\n",
    "  select(prop_bike_theft_2022)\n",
    "\n",
    "diff_in_props_22_12 <- tibble(diff_in_props = pull(bike_theft_2012) - pull(bike_theft_2022))\n",
    "\n",
    "bike_theft_summary <- tibble(bike_theft_2012, bike_theft_2022, diff_in_props_22_12)\n",
    "bike_theft_summary\n"
   ]
  },
  {
   "attachments": {},
   "cell_type": "markdown",
   "id": "bd5b89cf-e41c-4c1d-ae21-0b6376edc292",
   "metadata": {},
   "source": [
    "### II. Hypothesis Test\n",
    "\n",
    "### Method 1: bootstrap\n"
   ]
  },
  {
   "cell_type": "markdown",
   "metadata": {},
   "source": [
    "\n",
    "### Method 2: 2 sample z-test\n",
    "#### 2.1 Preform the test\n"
   ]
  },
  {
   "cell_type": "code",
   "execution_count": 22,
   "metadata": {
    "vscode": {
     "languageId": "r"
    }
   },
   "outputs": [
    {
     "data": {
      "text/html": [
       "<table class=\"dataframe\">\n",
       "<caption>A tibble: 1 × 9</caption>\n",
       "<thead>\n",
       "\t<tr><th scope=col>estimate1</th><th scope=col>estimate2</th><th scope=col>statistic</th><th scope=col>p.value</th><th scope=col>parameter</th><th scope=col>conf.low</th><th scope=col>conf.high</th><th scope=col>method</th><th scope=col>alternative</th></tr>\n",
       "\t<tr><th scope=col>&lt;dbl&gt;</th><th scope=col>&lt;dbl&gt;</th><th scope=col>&lt;dbl&gt;</th><th scope=col>&lt;dbl&gt;</th><th scope=col>&lt;dbl&gt;</th><th scope=col>&lt;dbl&gt;</th><th scope=col>&lt;dbl&gt;</th><th scope=col>&lt;chr&gt;</th><th scope=col>&lt;chr&gt;</th></tr>\n",
       "</thead>\n",
       "<tbody>\n",
       "\t<tr><td>0.03806294</td><td>0.06019726</td><td>51.53835</td><td>3.510605e-13</td><td>1</td><td>-1</td><td>-0.01696856</td><td>2-sample test for equality of proportions without continuity correction</td><td>less</td></tr>\n",
       "</tbody>\n",
       "</table>\n"
      ],
      "text/latex": [
       "A tibble: 1 × 9\n",
       "\\begin{tabular}{lllllllll}\n",
       " estimate1 & estimate2 & statistic & p.value & parameter & conf.low & conf.high & method & alternative\\\\\n",
       " <dbl> & <dbl> & <dbl> & <dbl> & <dbl> & <dbl> & <dbl> & <chr> & <chr>\\\\\n",
       "\\hline\n",
       "\t 0.03806294 & 0.06019726 & 51.53835 & 3.510605e-13 & 1 & -1 & -0.01696856 & 2-sample test for equality of proportions without continuity correction & less\\\\\n",
       "\\end{tabular}\n"
      ],
      "text/markdown": [
       "\n",
       "A tibble: 1 × 9\n",
       "\n",
       "| estimate1 &lt;dbl&gt; | estimate2 &lt;dbl&gt; | statistic &lt;dbl&gt; | p.value &lt;dbl&gt; | parameter &lt;dbl&gt; | conf.low &lt;dbl&gt; | conf.high &lt;dbl&gt; | method &lt;chr&gt; | alternative &lt;chr&gt; |\n",
       "|---|---|---|---|---|---|---|---|---|\n",
       "| 0.03806294 | 0.06019726 | 51.53835 | 3.510605e-13 | 1 | -1 | -0.01696856 | 2-sample test for equality of proportions without continuity correction | less |\n",
       "\n"
      ],
      "text/plain": [
       "  estimate1  estimate2  statistic p.value      parameter conf.low conf.high  \n",
       "1 0.03806294 0.06019726 51.53835  3.510605e-13 1         -1       -0.01696856\n",
       "  method                                                                 \n",
       "1 2-sample test for equality of proportions without continuity correction\n",
       "  alternative\n",
       "1 less       "
      ]
     },
     "metadata": {},
     "output_type": "display_data"
    }
   ],
   "source": [
    "broom::tidy(\n",
    "        prop.test(\n",
    "        x= c(sum(cbd_2022$TYPE == \"Theft of Bicycle\"),\n",
    "        sum(cbd_2012$TYPE == \"Theft of Bicycle\") ), \n",
    "        n= c(nrow(cbd_2022),\n",
    "        nrow(cbd_2012) ), \n",
    "        alternative = \"less\",\n",
    "        conf.level = 0.95,\n",
    "                 correct= FALSE))"
   ]
  },
  {
   "cell_type": "code",
   "execution_count": 26,
   "metadata": {
    "vscode": {
     "languageId": "r"
    }
   },
   "outputs": [
    {
     "data": {
      "text/html": [
       "TRUE"
      ],
      "text/latex": [
       "TRUE"
      ],
      "text/markdown": [
       "TRUE"
      ],
      "text/plain": [
       "[1] TRUE"
      ]
     },
     "metadata": {},
     "output_type": "display_data"
    }
   ],
   "source": [
    "3.510605e-13 < 0.5"
   ]
  },
  {
   "cell_type": "markdown",
   "metadata": {},
   "source": [
    "As shown, the p-value is less than the significance value at 0.5. Therefore, it is statistically significant, and we reject H0. Indicating that there's a significant difference in the proportions of bike thefts and Project 529 may be effective in reducing bike theft in Downtown."
   ]
  },
  {
   "cell_type": "markdown",
   "metadata": {},
   "source": [
    "#### 2.2 Confidence Intervals\n",
    "##### 2.2.1 Percentile"
   ]
  },
  {
   "cell_type": "code",
   "execution_count": null,
   "metadata": {
    "vscode": {
     "languageId": "r"
    }
   },
   "outputs": [],
   "source": []
  },
  {
   "cell_type": "markdown",
   "metadata": {},
   "source": [
    "\n",
    "First, process original sample by creating a bar graph of the crime counts for both 2012 and 2022 for initial data overview. Afterwards, calculate the bike theft proportion from the 2012 and 2022 samples.\n",
    "\n",
    "Next, conduct a hypothesis test by bootstrapping and conducting 1 sample z-test. Setting the hypotheses (let proportion in 2022 be $P_1$ and 2012 be $P_2$):\n",
    "\n",
    "- $H_0 = P_1 - P_2 = 0$\n",
    "\n",
    "- $H_a = P_1 - P_2 < 0$ \n",
    "\n",
    "After that, set a random seed. Use the `infer` package to create a null distribution by generating 1000 samples through permutation from the original data, calculate by `\"diff in props\"`.\n",
    "Calculate the following p-value.\n",
    "\n",
    "Using the null distribution, visualize it and shade the left tail corresponding to the p-value. Overlay a normal distribution curve  to illustrate CLT.\n",
    "\n",
    "Then, calculate &mu; and &sigma;, get the 95% confidence interval with `qnorm()`.\n",
    "\n",
    "- Use standard error method, CLT, percentile\n",
    "\n",
    "Finally, interpret results. \n",
    "Set a significance level &alpha; to 0.05. \n",
    "\n",
    "- If $ p < \\alpha $, reject $H_0$. This suggests there's a significant difference in the proportions of bike thefts and Project 529 may be effective in reducing bike theft in Downtown.\n",
    "\n",
    "- If $ p \\geq  \\alpha $, do not reject $H_0$. This indicates there's not enough evidence to conclude the proportions are different and Project 529 is not effective in reducing bike theft in Downtown.\n",
    "\n",
    "- compute TYPEI & II ERROR, POWER OF TEST"
   ]
  },
  {
   "attachments": {},
   "cell_type": "markdown",
   "id": "caaef122-ea04-42f9-a2c5-036ea7dbcb09",
   "metadata": {},
   "source": [
    "## Discussion\n",
    "\n",
    "From our investigation, we expect to either reject or fail to reject the null hypothesis and find a CI for the true difference in proportion to find out whether or not Project 529 was indeed effective. \n",
    "\n",
    "If our findings suggest the program is effective, it can justify continued or increased resources towards the program, as well as towards establishing similar programs in other cities. If no significant impact is found, a better strategy can be implemented to reduce bike theft.\n",
    "\n",
    "Additional research could examine the resource and cost-effectiveness of Project 529. Is the reduction in bike theft worth the investment? Are there more efficient alternatives? \n"
   ]
  },
  {
   "attachments": {},
   "cell_type": "markdown",
   "id": "3f0beab4-b958-47b3-82e8-ac4d18b7a7f0",
   "metadata": {},
   "source": [
    "## References \n",
    "\n",
    "Dataset source: https://geodash.vpd.ca/opendata \n",
    "\n",
    "Ballard, J. (2021, February 4). Vancouver still has the most bike thefts per capita among major Canadian cities despite efforts. CBC News. https://www.cbc.ca/news/canada/british-columbia/vancouver-still-has-the-most-bike-thefts-per-capita-among-major-canadian-cities-despite-efforts-1.5898575\n",
    "\n",
    "Malleson N, Steenbeek W, Andresen MA (2019). Identifying the appropriate spatial resolution for the analysis of crime patterns. PLoS One. 2019 Jun 26;14(6):e0218324. doi: 10.1371/journal.pone.0218324.\n",
    "\n",
    "McIntyre, G. (2023, June 9). The state of bike thefts in Vancouver. Vancouver Sun. https://vancouversun.com/news/local-news/the-state-of-bike-thefts-in-vancouver\n",
    "\n",
    "Nettle D, Nott K, Bateson M. 'Cycle thieves, we are watching you': impact of a simple signage intervention against bicycle theft. PLoS One. 2012;7(12):e51738. doi: 10.1371/journal.pone.0051738. Epub 2012 Dec 12. PMID: 23251615; PMCID: PMC3520908.\n",
    "\n",
    "Vancouver Police Department. (n.d.). Bike theft protection. https://vpd.ca/crime-prevention-safety/bike-theft-protection/\n"
   ]
  }
 ],
 "metadata": {
  "kernelspec": {
   "display_name": "R",
   "language": "R",
   "name": "ir"
  },
  "language_info": {
   "codemirror_mode": "r",
   "file_extension": ".r",
   "mimetype": "text/x-r-source",
   "name": "R",
   "pygments_lexer": "r",
   "version": "4.3.2"
  }
 },
 "nbformat": 4,
 "nbformat_minor": 5
}
